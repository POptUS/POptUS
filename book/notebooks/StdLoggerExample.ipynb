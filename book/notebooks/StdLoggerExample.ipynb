{
 "cells": [
  {
   "cell_type": "markdown",
   "metadata": {
    "editable": true,
    "slideshow": {
     "slide_type": ""
    },
    "tags": []
   },
   "source": [
    "# Configuring Standard Out/Error Logging\n",
    "\n",
    "As a user we are given a function, such as a {{poptus}} method, that requires that we pass it a fully-configured {{poptus}} logger.  In this particular example, we will pass to the method a logger whose verbosity level is under our control. The logger logs general information, debug information with various levels of verbosity, and warning messages to standard output.  In addition, the logger logs error messages to standard error.\n",
    "\n",
    "Since standard output and standard error are different outputs, they are rendered in this book as different blocks of outputs.  Similarly, while the lines written to standard output are presented in chronological order, the order in which standard output and standard error are presented are not indicative of any relative chronological order."
   ]
  },
  {
   "cell_type": "code",
   "execution_count": 1,
   "metadata": {
    "editable": true,
    "slideshow": {
     "slide_type": ""
    },
    "tags": [
     "remove-cell"
    ]
   },
   "outputs": [],
   "source": [
    "# Remove input/outputs in rendering\n",
    "\n",
    "import sys\n",
    "import functools\n",
    "\n",
    "from pathlib import Path\n",
    "\n",
    "sys.path.append(Path.cwd())\n",
    "\n",
    "from log_messages import log_messages as log_messages_to_wrap\n",
    "\n",
    "log_messages = functools.partial(log_messages_to_wrap, source_name=\"StdExample\")"
   ]
  },
  {
   "cell_type": "markdown",
   "metadata": {
    "editable": true,
    "slideshow": {
     "slide_type": ""
    },
    "tags": []
   },
   "source": [
    "## Logging all messages\n",
    "\n",
    "By configuring and creating a logger with just the logger's verbosity level, we select our desired logging setup.  Since we set the logger's verbosity level to the maximum value, all messages produced by our given ``log_message()`` method are written to standard output and error."
   ]
  },
  {
   "cell_type": "code",
   "execution_count": 2,
   "metadata": {
    "editable": true,
    "slideshow": {
     "slide_type": ""
    },
    "tags": []
   },
   "outputs": [
    {
     "name": "stderr",
     "output_type": "stream",
     "text": [
      "[StdExample] ERROR - Something is definitely wrong\n"
     ]
    },
    {
     "name": "stdout",
     "output_type": "stream",
     "text": [
      "[StdExample] General Message\n",
      "[StdExample] Debug Message Level 2\n",
      "[StdExample] Debug Message Level 3\n",
      "[StdExample] Debug Message Level 4\n",
      "[StdExample] WARNING - Something is not quite right\n"
     ]
    }
   ],
   "source": [
    "import poptus\n",
    "\n",
    "configuration = {\"Level\": poptus.LOG_LEVEL_MAX}\n",
    "\n",
    "logger = poptus.create_logger(configuration)\n",
    "log_messages(logger)"
   ]
  },
  {
   "cell_type": "markdown",
   "metadata": {
    "editable": true,
    "slideshow": {
     "slide_type": ""
    },
    "tags": []
   },
   "source": [
    "## Default logging\n",
    "\n",
    "By creating a logger without providing any configuration, we obtain the {{poptus}} default logger, which does not log any of ``log_messages``'s debug information."
   ]
  },
  {
   "cell_type": "code",
   "execution_count": 3,
   "metadata": {
    "editable": true,
    "slideshow": {
     "slide_type": ""
    },
    "tags": []
   },
   "outputs": [
    {
     "name": "stderr",
     "output_type": "stream",
     "text": [
      "[StdExample] ERROR - Something is definitely wrong\n"
     ]
    },
    {
     "name": "stdout",
     "output_type": "stream",
     "text": [
      "[StdExample] General Message\n",
      "[StdExample] WARNING - Something is not quite right\n"
     ]
    }
   ],
   "source": [
    "logger = poptus.create_logger()\n",
    "log_messages(logger)"
   ]
  },
  {
   "cell_type": "markdown",
   "metadata": {
    "editable": true,
    "slideshow": {
     "slide_type": ""
    },
    "tags": []
   },
   "source": [
    "## Two levels of debug information"
   ]
  },
  {
   "cell_type": "code",
   "execution_count": 4,
   "metadata": {
    "editable": true,
    "slideshow": {
     "slide_type": ""
    },
    "tags": []
   },
   "outputs": [
    {
     "name": "stderr",
     "output_type": "stream",
     "text": [
      "[StdExample] ERROR - Something is definitely wrong\n"
     ]
    },
    {
     "name": "stdout",
     "output_type": "stream",
     "text": [
      "[StdExample] General Message\n",
      "[StdExample] Debug Message Level 2\n",
      "[StdExample] Debug Message Level 3\n",
      "[StdExample] WARNING - Something is not quite right\n"
     ]
    }
   ],
   "source": [
    "configuration[\"Level\"] = poptus.LOG_LEVEL_MIN_DEBUG + 1\n",
    "logger = poptus.create_logger(configuration)\n",
    "log_messages(logger)"
   ]
  }
 ],
 "metadata": {
  "jupytext": {
   "formats": "ipynb,py:percent"
  },
  "kernelspec": {
   "display_name": "Python 3 (ipykernel)",
   "language": "python",
   "name": "python3"
  },
  "language_info": {
   "codemirror_mode": {
    "name": "ipython",
    "version": 3
   },
   "file_extension": ".py",
   "mimetype": "text/x-python",
   "name": "python",
   "nbconvert_exporter": "python",
   "pygments_lexer": "ipython3",
   "version": "3.12.5"
  }
 },
 "nbformat": 4,
 "nbformat_minor": 4
}
