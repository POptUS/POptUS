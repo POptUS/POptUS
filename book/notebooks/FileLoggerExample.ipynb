{
 "cells": [
  {
   "cell_type": "markdown",
   "metadata": {
    "editable": true,
    "slideshow": {
     "slide_type": ""
    },
    "tags": []
   },
   "source": [
    "# Configuring Logging to File\n",
    "\n",
    "This example is the same as the previous example, but with logging of all messages to a file with a given name.  Note that we are using the same ``log_messages()`` method used in the previous example. This ``log_messages()`` method has no knowledge of which of its log messages will be presented to users, nor how they will be logged."
   ]
  },
  {
   "cell_type": "code",
   "execution_count": 1,
   "metadata": {
    "editable": true,
    "slideshow": {
     "slide_type": ""
    },
    "tags": [
     "remove-cell"
    ]
   },
   "outputs": [],
   "source": [
    "# Remove input/outputs in rendering\n",
    "\n",
    "import os\n",
    "import sys\n",
    "import functools\n",
    "\n",
    "from pathlib import Path\n",
    "\n",
    "sys.path.append(Path.cwd())\n",
    "\n",
    "from print_file import print_file\n",
    "from log_messages import log_messages as log_messages_to_wrap\n",
    "\n",
    "log_messages = functools.partial(log_messages_to_wrap, source_name=\"FileExample\")\n",
    "\n",
    "# Even though the logger in configured for overwriting, we will\n",
    "# remove the file manually to prevent POptUS from writing a warning\n",
    "# message to stdout.\n",
    "FILENAME = Path.cwd().joinpath(\"log_messages.log\")\n",
    "if FILENAME.exists():\n",
    "    os.remove(FILENAME)"
   ]
  },
  {
   "cell_type": "markdown",
   "metadata": {
    "editable": true,
    "slideshow": {
     "slide_type": ""
    },
    "tags": []
   },
   "source": [
    "## Logging all messages\n",
    "\n",
    "Our desire to log to file is communicated by providing, among other values, a filename in our logger's configuration.  Since we set the logger's verbosity level to the maximum value, our given ``log_messages()`` method writes all possible messages to the file with the specified filename. The logger also writes the one error message to standard error."
   ]
  },
  {
   "cell_type": "code",
   "execution_count": 2,
   "metadata": {
    "editable": true,
    "slideshow": {
     "slide_type": ""
    },
    "tags": []
   },
   "outputs": [
    {
     "name": "stderr",
     "output_type": "stream",
     "text": [
      "[FileExample] ERROR - Something is definitely wrong\n"
     ]
    }
   ],
   "source": [
    "from pathlib import Path\n",
    "\n",
    "import poptus\n",
    "\n",
    "FILENAME = Path.cwd().joinpath(\"log_messages.log\")\n",
    "\n",
    "configuration = {\"Level\": poptus.LOG_LEVEL_MAX,\n",
    "                 \"Filename\": FILENAME,\n",
    "                 \"Overwrite\": False}\n",
    "\n",
    "logger = poptus.create_logger(configuration)\n",
    "log_messages(logger)"
   ]
  },
  {
   "cell_type": "markdown",
   "metadata": {
    "editable": true,
    "slideshow": {
     "slide_type": ""
    },
    "tags": []
   },
   "source": [
    "The contents of ``log_messages.log`` are"
   ]
  },
  {
   "cell_type": "code",
   "execution_count": 3,
   "metadata": {
    "editable": true,
    "slideshow": {
     "slide_type": ""
    },
    "tags": [
     "remove-input"
    ]
   },
   "outputs": [
    {
     "name": "stdout",
     "output_type": "stream",
     "text": [
      "[FileExample] General Message\n",
      "[FileExample] Debug Message Level 2\n",
      "[FileExample] Debug Message Level 3\n",
      "[FileExample] Debug Message Level 4\n",
      "[FileExample] WARNING - Something is not quite right\n",
      "[FileExample] ERROR - Something is definitely wrong\n"
     ]
    }
   ],
   "source": [
    "# Remove input from rendering\n",
    "\n",
    "print_file(FILENAME)\n",
    "\n",
    "os.remove(FILENAME)"
   ]
  },
  {
   "cell_type": "markdown",
   "metadata": {
    "editable": true,
    "slideshow": {
     "slide_type": ""
    },
    "tags": []
   },
   "source": [
    "## Logging at default level"
   ]
  },
  {
   "cell_type": "code",
   "execution_count": 4,
   "metadata": {
    "editable": true,
    "slideshow": {
     "slide_type": ""
    },
    "tags": []
   },
   "outputs": [
    {
     "name": "stderr",
     "output_type": "stream",
     "text": [
      "[FileExample] ERROR - Something is definitely wrong\n"
     ]
    }
   ],
   "source": [
    "configuration[\"Level\"] = poptus.LOG_LEVEL_DEFAULT\n",
    "logger = poptus.create_logger(configuration)\n",
    "log_messages(logger)"
   ]
  },
  {
   "cell_type": "markdown",
   "metadata": {
    "editable": true,
    "slideshow": {
     "slide_type": ""
    },
    "tags": []
   },
   "source": [
    "The contents of ``log_messages.log`` are"
   ]
  },
  {
   "cell_type": "code",
   "execution_count": 5,
   "metadata": {
    "editable": true,
    "slideshow": {
     "slide_type": ""
    },
    "tags": [
     "remove-input"
    ]
   },
   "outputs": [
    {
     "name": "stdout",
     "output_type": "stream",
     "text": [
      "[FileExample] General Message\n",
      "[FileExample] WARNING - Something is not quite right\n",
      "[FileExample] ERROR - Something is definitely wrong\n"
     ]
    }
   ],
   "source": [
    "# Remove input from rendering\n",
    "\n",
    "print_file(FILENAME)\n",
    "\n",
    "os.remove(FILENAME)"
   ]
  },
  {
   "cell_type": "markdown",
   "metadata": {
    "editable": true,
    "slideshow": {
     "slide_type": ""
    },
    "tags": []
   },
   "source": [
    "## Lowest level of debug information"
   ]
  },
  {
   "cell_type": "code",
   "execution_count": 6,
   "metadata": {
    "editable": true,
    "slideshow": {
     "slide_type": ""
    },
    "tags": []
   },
   "outputs": [
    {
     "name": "stderr",
     "output_type": "stream",
     "text": [
      "[FileExample] ERROR - Something is definitely wrong\n"
     ]
    }
   ],
   "source": [
    "configuration[\"Level\"] = poptus.LOG_LEVEL_MIN_DEBUG\n",
    "logger = poptus.create_logger(configuration)\n",
    "log_messages(logger)"
   ]
  },
  {
   "cell_type": "markdown",
   "metadata": {
    "editable": true,
    "slideshow": {
     "slide_type": ""
    },
    "tags": []
   },
   "source": [
    "The contents of ``log_messages.log`` are"
   ]
  },
  {
   "cell_type": "code",
   "execution_count": 7,
   "metadata": {
    "editable": true,
    "slideshow": {
     "slide_type": ""
    },
    "tags": [
     "remove-input"
    ]
   },
   "outputs": [
    {
     "name": "stdout",
     "output_type": "stream",
     "text": [
      "[FileExample] General Message\n",
      "[FileExample] Debug Message Level 2\n",
      "[FileExample] WARNING - Something is not quite right\n",
      "[FileExample] ERROR - Something is definitely wrong\n"
     ]
    }
   ],
   "source": [
    "# Remove input from rendering\n",
    "\n",
    "print_file(FILENAME)\n",
    "\n",
    "os.remove(FILENAME)"
   ]
  }
 ],
 "metadata": {
  "jupytext": {
   "formats": "ipynb,py:percent"
  },
  "kernelspec": {
   "display_name": "Python 3 (ipykernel)",
   "language": "python",
   "name": "python3"
  },
  "language_info": {
   "codemirror_mode": {
    "name": "ipython",
    "version": 3
   },
   "file_extension": ".py",
   "mimetype": "text/x-python",
   "name": "python",
   "nbconvert_exporter": "python",
   "pygments_lexer": "ipython3",
   "version": "3.12.5"
  }
 },
 "nbformat": 4,
 "nbformat_minor": 4
}
