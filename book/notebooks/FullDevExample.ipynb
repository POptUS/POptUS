{
 "cells": [
  {
   "cell_type": "markdown",
   "metadata": {
    "editable": true,
    "slideshow": {
     "slide_type": ""
    },
    "tags": []
   },
   "source": [
    "# __DRAFT__: Create & Use Log Functions\n",
    "\n",
    "## Example details\n",
    "For this silly, lil' method, we impose the following criteria for determining what information should be written with which debug log levels\n",
    "\n",
    "* `LOG_LEVEL_MIN_DEBUG` - Insights for tracing method's progress.  Potentially useful for careful users and method developers.  This should not be an overwhelming amount of information.\n",
    "* `LOG_LEVEL_MIN_DEBUG` + 1 - Reporting coordinates of a parameter-space point.  For high-dimensional spaces, such information could be substantially long and could render the log ineffective for general use.  Users might find this useful for checking setups.\n",
    "* `LOG_LEVEL_MIN_DEBUG` + 2 - Reporting internal and intermediate data for helping developers develop and debug the method."
   ]
  },
  {
   "cell_type": "code",
   "execution_count": 1,
   "metadata": {
    "editable": true,
    "slideshow": {
     "slide_type": ""
    },
    "tags": []
   },
   "outputs": [],
   "source": [
    "import poptus"
   ]
  }
 ],
 "metadata": {
  "jupytext": {
   "formats": "ipynb,py:percent"
  },
  "kernelspec": {
   "display_name": "Python 3 (ipykernel)",
   "language": "python",
   "name": "python3"
  },
  "language_info": {
   "codemirror_mode": {
    "name": "ipython",
    "version": 3
   },
   "file_extension": ".py",
   "mimetype": "text/x-python",
   "name": "python",
   "nbconvert_exporter": "python",
   "pygments_lexer": "ipython3",
   "version": "3.13.7"
  }
 },
 "nbformat": 4,
 "nbformat_minor": 4
}
