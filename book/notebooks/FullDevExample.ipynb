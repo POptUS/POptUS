{
 "cells": [
  {
   "cell_type": "markdown",
   "metadata": {
    "editable": true,
    "slideshow": {
     "slide_type": ""
    },
    "tags": []
   },
   "source": [
    "# Create & Use Log Functions\n",
    "\n",
    "This is a silly, lil' example that I am currently developing to be able to interact with the current logging tools.  I'm also using it to determine and communicate possible design decisions.\n",
    "\n",
    "__TODO__: Finish a rough draft of this for review by the others.\n",
    "\n",
    "For this method, we impose the following criteria for determining what information should be written with which debug log levels\n",
    "* `LOG_LEVEL_MIN_DEBUG` - Insights for tracing method's progress.  Potentially useful for careful users and method developers.  This should not be an overwhelming amount of information.\n",
    "* `LOG_LEVEL_MIN_DEBUG` + 1 - Reporting coordinates of a parameter-space point.  For high-dimensional spaces, such information could be substantially long and could render the log ineffective for general use.  Users might find this useful for checking setups.\n",
    "* `LOG_LEVEL_MIN_DEBUG` + 2 - Reporting internal and intermediate data for helping developers develop and debug the method.\n",
    "\n",
    "## Define low-level method implementation\n",
    "Note that at the level of this low-level layer there's not much utility in logging the starting point, for example, since this layer of software does not know the mapping of parameter names onto coordinates.  However, it makes sense to log optional configuration values in this layer since this code knows how to manage the values of these."
   ]
  },
  {
   "cell_type": "code",
   "execution_count": 1,
   "metadata": {
    "editable": true,
    "slideshow": {
     "slide_type": ""
    },
    "tags": []
   },
   "outputs": [],
   "source": [
    "import numpy as np\n",
    "\n",
    "import poptus\n",
    "\n",
    "def my_method(model, x0, numerics, expert, logger, **kwargs):\n",
    "    # ----- HARDCODED VALUES\n",
    "    LOG_TAG = \"MyMethod\"\n",
    "\n",
    "    DEBUG_0 = 0\n",
    "    DEBUG_LONG = 1\n",
    "    DEBUG_WEEDS = 2\n",
    "\n",
    "    NOISE_THRESHOLD = 1.0e-2\n",
    "\n",
    "    # ----- CREATE LOG FUNCTIONS\n",
    "    log, log_debug, warn, log_and_abort = \\\n",
    "        poptus.create_log_functions(logger, LOG_TAG)\n",
    "\n",
    "    # ----- HANDLE OPTIONAL ARGS & ERROR CHECK CONFIG\n",
    "    delta_0 = numerics[\"initial_delta\"]\n",
    "    max_iters = numerics[\"max_iters\"]\n",
    "    gtolr = expert[\"gtolr\"]\n",
    "    if delta_0 <= 0.0:\n",
    "        log_and_abort(ValueError, \"Initial delta must be positive\")\n",
    "    elif max_iters <= 0:\n",
    "        log_and_abort(ValueError, \"Number of iterations must be positive\")\n",
    "    if gtolr > 1.0e-3:\n",
    "        warn(\"My what a large gradient tolerance you've provided\")\n",
    "\n",
    "    # ----- CREATE LOG FUNCTIONS & LOG CONFIGURATION\n",
    "    log(\"Numerics\")\n",
    "    log(\"-\" * 60)\n",
    "    for key, value in numerics.items():\n",
    "        log(f\"{key:<15}{value}\")\n",
    "    log(\"\")\n",
    "    log(\"Expert Settings\")\n",
    "    log(\"-\" * 60)\n",
    "    for key, value in expert.items():\n",
    "        log(f\"{key:<15}{value}\")\n",
    "\n",
    "    # ----- START EXECUTING METHOD\n",
    "    log(\"\")\n",
    "    log_debug(\"Let's get started!\", DEBUG_0)\n",
    "    x = np.array(x0)\n",
    "    for i in range(max_iters):\n",
    "        x *= 0.5\n",
    "        log(f\"Iteration {i+1} = {x}\")\n",
    "        log_debug(\"We divided by two to get this\", DEBUG_WEEDS)\n",
    "        solution = model(1.1, x)\n",
    "        log_debug(f\"Iteration {i+1} solution = {solution}\", DEBUG_0)\n",
    "        if np.fabs(solution) < 1.0e-1:\n",
    "            warn(\"Solution is suspiciously small\")\n",
    "\n",
    "    log(f\"solution = {solution} at x = {x}\")\n",
    "    if np.fabs(solution) <= NOISE_THRESHOLD:\n",
    "        log_and_abort(RuntimeError, \"Solution too small\")\n",
    "\n",
    "    return solution, x"
   ]
  },
  {
   "cell_type": "markdown",
   "metadata": {},
   "source": [
    "## Logging to standard output and error\n",
    "\n",
    "When using the low-level interface, users are made aware of the `poptus` logging facilities directly and are required to instantiate a logger.  "
   ]
  },
  {
   "cell_type": "code",
   "execution_count": 2,
   "metadata": {},
   "outputs": [
    {
     "name": "stdout",
     "output_type": "stream",
     "text": [
      "[MyMethod] WARNING - My what a large gradient tolerance you've provided\n",
      "[MyMethod] Numerics\n",
      "[MyMethod] ------------------------------------------------------------\n",
      "[MyMethod] initial_delta  0.01\n",
      "[MyMethod] max_iters      4\n",
      "[MyMethod] \n",
      "[MyMethod] Expert Settings\n",
      "[MyMethod] ------------------------------------------------------------\n",
      "[MyMethod] gtolr          0.01\n",
      "[MyMethod] \n",
      "[MyMethod] Let's get started!\n",
      "[MyMethod] Iteration 1 = [-1.1   0.55]\n",
      "[MyMethod] Iteration 1 solution = -0.6600000000000001\n",
      "[MyMethod] Iteration 2 = [-0.55   0.275]\n",
      "[MyMethod] Iteration 2 solution = -0.33000000000000007\n",
      "[MyMethod] Iteration 3 = [-0.275   0.1375]\n",
      "[MyMethod] Iteration 3 solution = -0.16500000000000004\n",
      "[MyMethod] Iteration 4 = [-0.1375   0.06875]\n",
      "[MyMethod] Iteration 4 solution = -0.08250000000000002\n",
      "[MyMethod] WARNING - Solution is suspiciously small\n",
      "[MyMethod] solution = -0.08250000000000002 at x = [-0.1375   0.06875]\n"
     ]
    }
   ],
   "source": [
    "def model(nu, x):\n",
    "    m, b = x\n",
    "    return m * nu + b\n",
    "\n",
    "# Ensure that ordering is in accord with how model() uses x\n",
    "x0 = [-2.2, 1.1]\n",
    "numerics = {\n",
    "    \"initial_delta\": 1.0e-2,\n",
    "    \"max_iters\": 4\n",
    "}\n",
    "expert = {\n",
    "    \"gtolr\": 1.0e-2\n",
    "}\n",
    "config_std = {\n",
    "    \"Level\": poptus.LOG_LEVEL_MIN_DEBUG + 1\n",
    "}\n",
    "\n",
    "logger = poptus.create_logger(config_std)\n",
    "_ = my_method(model, x0, numerics, expert, logger)"
   ]
  },
  {
   "cell_type": "markdown",
   "metadata": {},
   "source": [
    "## Define high-level method interface\n",
    "\n",
    "When using the low-level interface, users are made aware of the `poptus` logging facilities directly and are required to instantiate a logger.  A method can also provide a high-level interface that allows users to interact with methods through simple data structures rather than code.  One benefit of this is that users are only exposed to loggers through the requirement that the simply specify their logging requirements in their data structures.\n",
    "\n",
    "Note that it makes more sense to log in the high-level layer at least some of the configuration information, such as the starting point, since that layer knows the mapping between parameter names and coordinates."
   ]
  },
  {
   "cell_type": "code",
   "execution_count": 3,
   "metadata": {},
   "outputs": [],
   "source": [
    "import pandas as pd\n",
    "\n",
    "def run_my_method(filename_json, parameter_space, model):\n",
    "    # ----- HARDCODED VALUES\n",
    "    LOG_TAG = \"MyMethod\"\n",
    "\n",
    "    DEBUG_0 = 0\n",
    "    DEBUG_LONG = 1\n",
    "    DEBUG_WEEDS = 2\n",
    "\n",
    "    with open(filename_json, \"r\") as fptr:\n",
    "        full_cfg = json.load(fptr)\n",
    "\n",
    "    method_cfg = full_cfg[\"MyMethod\"]\n",
    "\n",
    "    numerics = method_cfg[\"Numerics\"]\n",
    "    expert = method_cfg[\"Expert\"]\n",
    "    logger = poptus.create_logger(method_cfg[\"Logging\"])\n",
    "    _, log_debug, _, _ = \\\n",
    "        poptus.create_log_functions(logger, \"MyMethod\")\n",
    "\n",
    "    # Convert given starting point from unordered dict that maps parameter names\n",
    "    # to coordinates to ordered array with no notion of parameter names.\n",
    "    # for the low-level interface\n",
    "    x0 = method_cfg[\"StartingPoint\"]\n",
    "    x0_ordered = [x0[p] for p in parameter_space]\n",
    "\n",
    "    # ----- LOG CONFIGURATION INFORMATION\n",
    "    # If our method will be used on models with high-dimensional parameter spaces,\n",
    "    # then logging the starting point might render the log useless.  Therefore,\n",
    "    # we only print for higher log levels.\n",
    "    log_debug(\"Starting Point\", DEBUG_LONG)\n",
    "    log_debug(\"-\" * 60, DEBUG_LONG)\n",
    "    for parameter, value in x0.items():\n",
    "        log_debug(f\"{parameter:<30}{value:<30}\", DEBUG_LONG)\n",
    "    log_debug(\"\", DEBUG_LONG)\n",
    "\n",
    "    solution, x_hat = my_method(model, x0_ordered, numerics, expert, logger)\n",
    "\n",
    "    # Convert ordered parameter-space point to unordered DataFrame with parameter\n",
    "    # names mapped onto coordinates.\n",
    "    x_hat_df = pd.DataFrame(data=x_hat, index=parameter_space,\n",
    "                            columns=[\"x_hat\"]).T\n",
    "    \n",
    "    return solution, x_hat_df"
   ]
  },
  {
   "cell_type": "markdown",
   "metadata": {},
   "source": [
    "We imagine that for a particular application a user must provide configuration information for both their model and the method that will study the model.  In this particular case, both configurations are provided in a single JSON-format file with contents"
   ]
  },
  {
   "cell_type": "code",
   "execution_count": 4,
   "metadata": {
    "editable": true,
    "slideshow": {
     "slide_type": ""
    },
    "tags": [
     "remove-input"
    ]
   },
   "outputs": [
    {
     "name": "stdout",
     "output_type": "stream",
     "text": [
      "\n",
      "Contents of FILENAME_JSON = MyMethodTest.json\n",
      "\n",
      "{\n",
      "    \"MyMethod\": {\n",
      "        \"StartingPoint\": {\n",
      "            \"b\": 1.1,\n",
      "            \"m\": -2.2\n",
      "        },\n",
      "        \"Numerics\": {\n",
      "            \"initial_delta\": 0.0025,\n",
      "            \"max_iters\": 5\n",
      "        },\n",
      "        \"Expert\": {\n",
      "            \"gtolr\": 1e-09\n",
      "        },\n",
      "        \"Logging\": {\n",
      "            \"Level\": 3\n",
      "        }\n",
      "    },\n",
      "    \"Model\": {\n",
      "        \"ParameterSpace\": [\n",
      "            \"m\",\n",
      "            \"b\"\n",
      "        ],\n",
      "        \"n_basis\": 20,\n",
      "        \"budget\": 500,\n",
      "        \"stopping_criteria\": 1e-05,\n",
      "        \"Logging\": {\n",
      "            \"Level\": 1\n",
      "        }\n",
      "    }\n",
      "}\n"
     ]
    }
   ],
   "source": [
    "# Hide inputs\n",
    "import json\n",
    "\n",
    "FILENAME_JSON = \"MyMethodTest.json\"\n",
    "\n",
    "# You can alter the contents of this and rerun notebook to see\n",
    "# the effect the changes have on the output.\n",
    "TO_JSON = {\n",
    "    \"MyMethod\": {\n",
    "        \"StartingPoint\": {\n",
    "            \"b\":   1.1,\n",
    "            \"m\":  -2.2\n",
    "        },\n",
    "        \"Numerics\": {\n",
    "            \"initial_delta\": 2.5e-3,\n",
    "            \"max_iters\":     5\n",
    "        },\n",
    "        \"Expert\": {\n",
    "            \"gtolr\": 1.0e-9\n",
    "        },\n",
    "        \"Logging\": {\n",
    "            \"Level\": 3\n",
    "        }\n",
    "    },\n",
    "    \"Model\": {\n",
    "        \"ParameterSpace\":  [\"m\", \"b\"],\n",
    "        \"n_basis\":            20,\n",
    "        \"budget\":            500,\n",
    "        \"stopping_criteria\":   1.0e-5,\n",
    "        \"Logging\": {\n",
    "            \"Level\": 1\n",
    "        }\n",
    "    }\n",
    "}\n",
    "with open(FILENAME_JSON, \"w\") as fptr:\n",
    "    json.dump(TO_JSON, fptr, indent=4)\n",
    "\n",
    "print()\n",
    "print(f\"Contents of FILENAME_JSON = {FILENAME_JSON}\")\n",
    "print()\n",
    "with open(\"MyMethodConfig.json\", \"r\") as fptr:\n",
    "    for line in fptr.readlines():\n",
    "        print(line.rstrip(\"\\n\"))"
   ]
  },
  {
   "cell_type": "markdown",
   "metadata": {},
   "source": [
    "An application built for using {{poptus}} methods with a particular model might look like the following.  We assume that `FILENAME_JSON` is provided to the application by the user."
   ]
  },
  {
   "cell_type": "code",
   "execution_count": 5,
   "metadata": {},
   "outputs": [
    {
     "name": "stdout",
     "output_type": "stream",
     "text": [
      "[Model] Model Parameter Space\n",
      "[Model] --------------------------------------------------------------------------------\n",
      "[Model] e_1\tm\n",
      "[Model] e_2\tb\n",
      "[MyMethod] Starting Point\n",
      "[MyMethod] ------------------------------------------------------------\n",
      "[MyMethod] b                             1.1                           \n",
      "[MyMethod] m                             -2.2                          \n",
      "[MyMethod] \n",
      "[MyMethod] Numerics\n",
      "[MyMethod] ------------------------------------------------------------\n",
      "[MyMethod] initial_delta  0.0025\n",
      "[MyMethod] max_iters      5\n",
      "[MyMethod] \n",
      "[MyMethod] Expert Settings\n",
      "[MyMethod] ------------------------------------------------------------\n",
      "[MyMethod] gtolr          1e-09\n",
      "[MyMethod] \n",
      "[MyMethod] Let's get started!\n",
      "[MyMethod] Iteration 1 = [-1.1   0.55]\n",
      "[MyMethod] Iteration 1 solution = -0.6600000000000001\n",
      "[MyMethod] Iteration 2 = [-0.55   0.275]\n",
      "[MyMethod] Iteration 2 solution = -0.33000000000000007\n",
      "[MyMethod] Iteration 3 = [-0.275   0.1375]\n",
      "[MyMethod] Iteration 3 solution = -0.16500000000000004\n",
      "[MyMethod] Iteration 4 = [-0.1375   0.06875]\n",
      "[MyMethod] Iteration 4 solution = -0.08250000000000002\n",
      "[MyMethod] WARNING - Solution is suspiciously small\n",
      "[MyMethod] Iteration 5 = [-0.06875   0.034375]\n",
      "[MyMethod] Iteration 5 solution = -0.04125000000000001\n",
      "[MyMethod] WARNING - Solution is suspiciously small\n",
      "[MyMethod] solution = -0.04125000000000001 at x = [-0.06875   0.034375]\n"
     ]
    },
    {
     "data": {
      "text/html": [
       "<div>\n",
       "<style scoped>\n",
       "    .dataframe tbody tr th:only-of-type {\n",
       "        vertical-align: middle;\n",
       "    }\n",
       "\n",
       "    .dataframe tbody tr th {\n",
       "        vertical-align: top;\n",
       "    }\n",
       "\n",
       "    .dataframe thead th {\n",
       "        text-align: right;\n",
       "    }\n",
       "</style>\n",
       "<table border=\"1\" class=\"dataframe\">\n",
       "  <thead>\n",
       "    <tr style=\"text-align: right;\">\n",
       "      <th></th>\n",
       "      <th>m</th>\n",
       "      <th>b</th>\n",
       "    </tr>\n",
       "  </thead>\n",
       "  <tbody>\n",
       "    <tr>\n",
       "      <th>x_hat</th>\n",
       "      <td>-0.06875</td>\n",
       "      <td>0.034375</td>\n",
       "    </tr>\n",
       "  </tbody>\n",
       "</table>\n",
       "</div>"
      ],
      "text/plain": [
       "             m         b\n",
       "x_hat -0.06875  0.034375"
      ]
     },
     "metadata": {},
     "output_type": "display_data"
    }
   ],
   "source": [
    "# ----- Load model information\n",
    "# This would likely be provided by the model developer in Python code that we\n",
    "# would import into the application.\n",
    "with open(FILENAME_JSON, \"r\") as fptr:\n",
    "    configuration = json.load(fptr)\n",
    "model_cfg = configuration[\"Model\"]\n",
    "parameter_space = model_cfg[\"ParameterSpace\"]\n",
    "\n",
    "model_logger = poptus.create_logger(model_cfg[\"Logging\"])\n",
    "\n",
    "log, _, _, _ = poptus.create_log_functions(model_logger, \"Model\")\n",
    "log(\"Model Parameter Space\")\n",
    "log(\"-\" * 80)\n",
    "for i, parameter in enumerate(parameter_space):\n",
    "    log(f\"e_{i+1}\\t{parameter}\")\n",
    "\n",
    "def model(nu, x):\n",
    "    # This should match the parameter space definition that we loaded.\n",
    "    m, b = x\n",
    "    return m * nu + b\n",
    "\n",
    "try:\n",
    "    solution, x_hat_df = run_my_method(FILENAME_JSON, parameter_space, model)\n",
    "    display(x_hat_df)\n",
    "except Exception:\n",
    "    print()\n",
    "    print(\"MyMethod failed to find a solution.  Please check log for more details.\")\n",
    "    print()"
   ]
  },
  {
   "cell_type": "markdown",
   "metadata": {},
   "source": [
    "## Log method information to file\n",
    "\n",
    "Note that in this case any error messages produced by the method will be written to both the log file and standard error."
   ]
  },
  {
   "cell_type": "code",
   "execution_count": 6,
   "metadata": {
    "editable": true,
    "slideshow": {
     "slide_type": ""
    },
    "tags": [
     "remove-input"
    ]
   },
   "outputs": [
    {
     "name": "stdout",
     "output_type": "stream",
     "text": [
      "\n",
      "Contents of FILENAME_JSON = MyMethodTest.json\n",
      "\n",
      "{\n",
      "    \"MyMethod\": {\n",
      "        \"StartingPoint\": {\n",
      "            \"b\": 1.1,\n",
      "            \"m\": -2.2\n",
      "        },\n",
      "        \"Numerics\": {\n",
      "            \"initial_delta\": 0.0025,\n",
      "            \"max_iters\": 10\n",
      "        },\n",
      "        \"Expert\": {\n",
      "            \"gtolr\": 1e-09\n",
      "        },\n",
      "        \"Logging\": {\n",
      "            \"Filename\": \"MyMethodTest.log\",\n",
      "            \"Overwrite\": true,\n",
      "            \"Level\": 3\n",
      "        }\n",
      "    },\n",
      "    \"Model\": {\n",
      "        \"ParameterSpace\": [\n",
      "            \"m\",\n",
      "            \"b\"\n",
      "        ],\n",
      "        \"n_basis\": 20,\n",
      "        \"budget\": 500,\n",
      "        \"stopping_criteria\": 1e-05,\n",
      "        \"Logging\": {\n",
      "            \"Level\": 1\n",
      "        }\n",
      "    }\n",
      "}\n"
     ]
    }
   ],
   "source": [
    "# Hide inputs\n",
    "import json\n",
    "\n",
    "FILENAME_JSON = \"MyMethodTest.json\"\n",
    "FILENAME_LOG = \"MyMethodTest.log\"\n",
    "\n",
    "# You can alter the contents of this and rerun notebook to see\n",
    "# the effect the changes have on the output.\n",
    "TO_JSON = {\n",
    "    \"MyMethod\": {\n",
    "        \"StartingPoint\": {\n",
    "            \"b\":   1.1,\n",
    "            \"m\":  -2.2\n",
    "        },\n",
    "        \"Numerics\": {\n",
    "            \"initial_delta\": 2.5e-3,\n",
    "            \"max_iters\":     10\n",
    "        },\n",
    "        \"Expert\": {\n",
    "            \"gtolr\": 1.0e-9\n",
    "        },\n",
    "        \"Logging\": {\n",
    "            \"Filename\": FILENAME_LOG,\n",
    "            \"Overwrite\": True,\n",
    "            \"Level\": 3\n",
    "        }\n",
    "    },\n",
    "    \"Model\": {\n",
    "        \"ParameterSpace\":  [\"m\", \"b\"],\n",
    "        \"n_basis\":            20,\n",
    "        \"budget\":            500,\n",
    "        \"stopping_criteria\":   1.0e-5,\n",
    "        \"Logging\": {\n",
    "            \"Level\": 1\n",
    "        }\n",
    "    }\n",
    "}\n",
    "with open(FILENAME_JSON, \"w\") as fptr:\n",
    "    json.dump(TO_JSON, fptr, indent=4)\n",
    "\n",
    "print()\n",
    "print(f\"Contents of FILENAME_JSON = {FILENAME_JSON}\")\n",
    "print()\n",
    "with open(FILENAME_JSON, \"r\") as fptr:\n",
    "    for line in fptr.readlines():\n",
    "        print(line.rstrip(\"\\n\"))"
   ]
  },
  {
   "cell_type": "code",
   "execution_count": 7,
   "metadata": {
    "editable": true,
    "slideshow": {
     "slide_type": ""
    },
    "tags": []
   },
   "outputs": [
    {
     "name": "stderr",
     "output_type": "stream",
     "text": [
      "[MyMethod] ERROR - Solution too small\n"
     ]
    },
    {
     "name": "stdout",
     "output_type": "stream",
     "text": [
      "[Model] Model Parameter Space\n",
      "[Model] --------------------------------------------------------------------------------\n",
      "[Model] e_1\tm\n",
      "[Model] e_2\tb\n",
      "[POptUS] WARNING - Overwriting /Users/jared/Projects/POptUS/POptUS_public/book/notebooks/MyMethodTest.log\n",
      "\n",
      "MyMethod failed to find a solution.  Please check log for more details.\n",
      "\n"
     ]
    }
   ],
   "source": [
    "import functools\n",
    "\n",
    "# ---- USER-PROVIDED MODEL FUNCTION\n",
    "# This would likely be provided by the model developer in Python code that we\n",
    "# would import into the application.\n",
    "def original_model(nu, x):\n",
    "    \"\"\"\n",
    "    Imagine that the model is developed to accept points with mapping\n",
    "    of parameter names to coordinates explicitly provided.\n",
    "    \"\"\"\n",
    "    m = x[\"m\"]\n",
    "    b = x[\"b\"]\n",
    "    return m * nu + b\n",
    "\n",
    "def model_wrapper(nu, x_ordered, parameter_space):\n",
    "    \"\"\"\n",
    "    To interface the model with methods that expect points as ordered\n",
    "    arrays with no mapping, we need to wrap the original model.\n",
    "    \"\"\"\n",
    "    x = dict(zip(parameter_space, x_ordered))\n",
    "    return original_model(nu, x)\n",
    "\n",
    "# ----- Load model information\n",
    "with open(FILENAME_JSON, \"r\") as fptr:\n",
    "    configuration = json.load(fptr)\n",
    "model_cfg = configuration[\"Model\"]\n",
    "\n",
    "# The users specify a (likely arbitrary) ordering\n",
    "parameter_space = model_cfg[\"ParameterSpace\"]\n",
    "model = functools.partial(model_wrapper, parameter_space=parameter_space)\n",
    "\n",
    "model_logger = poptus.create_logger(model_cfg[\"Logging\"])\n",
    "\n",
    "log, _, _, _ = poptus.create_log_functions(model_logger, \"Model\")\n",
    "log(\"Model Parameter Space\")\n",
    "log(\"-\" * 80)\n",
    "for i, parameter in enumerate(parameter_space):\n",
    "    log(f\"e_{i+1}\\t{parameter}\")\n",
    "\n",
    "try:\n",
    "    solution, x_hat_df = run_my_method(FILENAME_JSON, parameter_space, model)\n",
    "    display(x_hat_df)\n",
    "except Exception:\n",
    "    print()\n",
    "    print(\"MyMethod failed to find a solution.  Please check log for more details.\")\n",
    "    print()"
   ]
  },
  {
   "cell_type": "markdown",
   "metadata": {
    "editable": true,
    "slideshow": {
     "slide_type": ""
    },
    "tags": []
   },
   "source": [
    "The contents of the method's log file are as follows."
   ]
  },
  {
   "cell_type": "code",
   "execution_count": 8,
   "metadata": {
    "editable": true,
    "slideshow": {
     "slide_type": ""
    },
    "tags": [
     "remove-input"
    ]
   },
   "outputs": [
    {
     "name": "stdout",
     "output_type": "stream",
     "text": [
      "[MyMethod] Starting Point\n",
      "[MyMethod] ------------------------------------------------------------\n",
      "[MyMethod] b                             1.1                           \n",
      "[MyMethod] m                             -2.2                          \n",
      "[MyMethod] \n",
      "[MyMethod] Numerics\n",
      "[MyMethod] ------------------------------------------------------------\n",
      "[MyMethod] initial_delta  0.0025\n",
      "[MyMethod] max_iters      10\n",
      "[MyMethod] \n",
      "[MyMethod] Expert Settings\n",
      "[MyMethod] ------------------------------------------------------------\n",
      "[MyMethod] gtolr          1e-09\n",
      "[MyMethod] \n",
      "[MyMethod] Let's get started!\n",
      "[MyMethod] Iteration 1 = [-1.1   0.55]\n",
      "[MyMethod] Iteration 1 solution = -0.6600000000000001\n",
      "[MyMethod] Iteration 2 = [-0.55   0.275]\n",
      "[MyMethod] Iteration 2 solution = -0.33000000000000007\n",
      "[MyMethod] Iteration 3 = [-0.275   0.1375]\n",
      "[MyMethod] Iteration 3 solution = -0.16500000000000004\n",
      "[MyMethod] Iteration 4 = [-0.1375   0.06875]\n",
      "[MyMethod] Iteration 4 solution = -0.08250000000000002\n",
      "[MyMethod] WARNING - Solution is suspiciously small\n",
      "[MyMethod] Iteration 5 = [-0.06875   0.034375]\n",
      "[MyMethod] Iteration 5 solution = -0.04125000000000001\n",
      "[MyMethod] WARNING - Solution is suspiciously small\n",
      "[MyMethod] Iteration 6 = [-0.034375   0.0171875]\n",
      "[MyMethod] Iteration 6 solution = -0.020625000000000004\n",
      "[MyMethod] WARNING - Solution is suspiciously small\n",
      "[MyMethod] Iteration 7 = [-0.0171875   0.00859375]\n",
      "[MyMethod] Iteration 7 solution = -0.010312500000000002\n",
      "[MyMethod] WARNING - Solution is suspiciously small\n",
      "[MyMethod] Iteration 8 = [-0.00859375  0.00429688]\n",
      "[MyMethod] Iteration 8 solution = -0.005156250000000001\n",
      "[MyMethod] WARNING - Solution is suspiciously small\n",
      "[MyMethod] Iteration 9 = [-0.00429688  0.00214844]\n",
      "[MyMethod] Iteration 9 solution = -0.0025781250000000006\n",
      "[MyMethod] WARNING - Solution is suspiciously small\n",
      "[MyMethod] Iteration 10 = [-0.00214844  0.00107422]\n",
      "[MyMethod] Iteration 10 solution = -0.0012890625000000003\n",
      "[MyMethod] WARNING - Solution is suspiciously small\n",
      "[MyMethod] solution = -0.0012890625000000003 at x = [-0.00214844  0.00107422]\n",
      "[MyMethod] ERROR - Solution too small\n"
     ]
    }
   ],
   "source": [
    "# Hide inputs\n",
    "\n",
    "with open(FILENAME_LOG, \"r\") as fptr:\n",
    "    for line in fptr.readlines():\n",
    "        print(line[:-1])"
   ]
  }
 ],
 "metadata": {
  "jupytext": {
   "formats": "ipynb,py:percent"
  },
  "kernelspec": {
   "display_name": "Python 3 (ipykernel)",
   "language": "python",
   "name": "python3"
  },
  "language_info": {
   "codemirror_mode": {
    "name": "ipython",
    "version": 3
   },
   "file_extension": ".py",
   "mimetype": "text/x-python",
   "name": "python",
   "nbconvert_exporter": "python",
   "pygments_lexer": "ipython3",
   "version": "3.13.7"
  }
 },
 "nbformat": 4,
 "nbformat_minor": 4
}
