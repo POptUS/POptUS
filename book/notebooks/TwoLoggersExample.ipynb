{
 "cells": [
  {
   "cell_type": "markdown",
   "metadata": {
    "editable": true,
    "slideshow": {
     "slide_type": ""
    },
    "tags": []
   },
   "source": [
    "# Using Multiple Loggers\n",
    "\n",
    "This example demonstrates the use of two different loggers and how to alter the configurations of each to help work with codes that use the {{poptus}} logging facilities."
   ]
  },
  {
   "cell_type": "code",
   "execution_count": 1,
   "metadata": {
    "editable": true,
    "slideshow": {
     "slide_type": ""
    },
    "tags": [
     "remove-cell"
    ]
   },
   "outputs": [],
   "source": [
    "# Remove input/outputs in rendering\n",
    "\n",
    "import sys\n",
    "import copy\n",
    "\n",
    "from pathlib import Path\n",
    "\n",
    "# We also assume that this is in the path below when loading the model function.\n",
    "sys.path.append(Path.cwd())\n",
    "\n",
    "from print_file import print_file"
   ]
  },
  {
   "cell_type": "markdown",
   "metadata": {},
   "source": [
    "Our goal is to write and use a simple application that couples\n",
    "* a given expensive computational model with\n",
    "* a given computational method that uses the model\n",
    "\n",
    "to find a solution to a problem of interest.  In our example, both the model and method functions use the {{poptus}} package to perform logging.\n",
    "\n",
    "The given model was designed to accept the logging configuration as part of a larger configuration dictionary and to create the associated logger object internally for the user.  By constructing a model function that uses a logger with maximum verbosity, we see that the model doesn't log that much information.  However, what it does log is valuable output for us, so we will always configure the model to use that verbosity level."
   ]
  },
  {
   "cell_type": "code",
   "execution_count": 2,
   "metadata": {
    "editable": true,
    "slideshow": {
     "slide_type": ""
    },
    "tags": []
   },
   "outputs": [
    {
     "name": "stdout",
     "output_type": "stream",
     "text": [
      "[Model] \n",
      "[Model] Creating model with p=inf\n",
      "[Model] \n",
      "[Model] Value = 0.0 at [0. 0.]\n"
     ]
    }
   ],
   "source": [
    "import poptus\n",
    "\n",
    "import numpy as np\n",
    "\n",
    "from my_model import construct_model\n",
    "\n",
    "model_cfg = {\n",
    "    \"Numerics\": {\n",
    "        \"p\": np.inf\n",
    "    },\n",
    "    \"Logging\": {\n",
    "        \"Level\": poptus.LOG_LEVEL_MAX\n",
    "    }\n",
    "}\n",
    "model = construct_model(model_cfg)\n",
    "_ = model(np.zeros(2))"
   ]
  },
  {
   "cell_type": "markdown",
   "metadata": {},
   "source": [
    "While the method also accepts a configuration dictionary as an argument, the user is expected to provide the method with a logger object.\n",
    "\n",
    "Since both the model and method require configuration dictionaries, we design our application to get all configuration information from a single, given JSON-format configuration file.  While we could use {{poptus}} within the application to log error messages, we prefer a minimal and simple error management scheme that just prints to standard output directly.  In any case, the method and model should already be logging their error messages appropriately."
   ]
  },
  {
   "cell_type": "code",
   "execution_count": 3,
   "metadata": {
    "editable": true,
    "slideshow": {
     "slide_type": ""
    },
    "tags": []
   },
   "outputs": [],
   "source": [
    "import json\n",
    "\n",
    "from my_model import construct_model\n",
    "from my_method import run_method\n",
    "\n",
    "\n",
    "def main(filename):\n",
    "    with open(filename, \"r\") as fptr:\n",
    "        configuration = json.load(fptr)\n",
    "\n",
    "    model_cfg = configuration[\"Model\"]\n",
    "    method_cfg = configuration[\"Method\"]\n",
    "\n",
    "    try:\n",
    "        model = construct_model(model_cfg)\n",
    "        method_logger = poptus.create_logger(method_cfg[\"Logging\"])\n",
    "        run_method(method_cfg, model, method_logger)\n",
    "    except Exception:\n",
    "        print()\n",
    "        print(\"FAILURE - Unable to apply my method to my model\")\n",
    "        print()\n",
    "        return 1\n",
    "\n",
    "    return 0"
   ]
  },
  {
   "cell_type": "markdown",
   "metadata": {
    "editable": true,
    "slideshow": {
     "slide_type": ""
    },
    "tags": []
   },
   "source": [
    "To start off, we use the (hopefully reasonable) starting configuration values suggested by the method developers.  To follow the method's progress, we log method output to standard output/error.  Since we're interested in reviewing all of our expensive model evaluations closely, we choose to write those to their own file.  The contents of our initial JSON file are"
   ]
  },
  {
   "cell_type": "code",
   "execution_count": 4,
   "metadata": {
    "editable": true,
    "slideshow": {
     "slide_type": ""
    },
    "tags": [
     "remove-input"
    ]
   },
   "outputs": [
    {
     "name": "stdout",
     "output_type": "stream",
     "text": [
      "{\n",
      "    \"Model\": {\n",
      "        \"Numerics\": {\n",
      "            \"p\": 2\n",
      "        },\n",
      "        \"Logging\": {\n",
      "            \"Level\": 4,\n",
      "            \"Filename\": \"/Users/jared/Projects/POptUS/POptUS_public/book/notebooks/model.log\",\n",
      "            \"Overwrite\": true\n",
      "        }\n",
      "    },\n",
      "    \"Method\": {\n",
      "        \"starting_point\": [\n",
      "            1.1,\n",
      "            -2.2\n",
      "        ],\n",
      "        \"max_iters\": 10,\n",
      "        \"stopping_criteria\": 1e-05,\n",
      "        \"expert\": {\n",
      "            \"factor\": 0.5\n",
      "        },\n",
      "        \"Logging\": {\n",
      "            \"Level\": 1\n",
      "        }\n",
      "    }\n",
      "}\n"
     ]
    }
   ],
   "source": [
    "# Remove input from rendering\n",
    "\n",
    "# There are overwritten as each step.\n",
    "JSON_FILENAME = Path.cwd().joinpath(\"test.json\")\n",
    "TEST_LOG = Path.cwd().joinpath(\"model.log\")\n",
    "\n",
    "SPLIT_CONFIG = {\n",
    "    \"Model\": {\n",
    "        \"Numerics\": {\n",
    "            \"p\": 2\n",
    "        },\n",
    "        \"Logging\": {\n",
    "            \"Level\": poptus.LOG_LEVEL_MAX,\n",
    "            \"Filename\": str(TEST_LOG),\n",
    "            \"Overwrite\": True\n",
    "        }\n",
    "    },\n",
    "    \"Method\": {\n",
    "        \"starting_point\": [1.1, -2.2],\n",
    "        \"max_iters\": 10,\n",
    "        \"stopping_criteria\": 1.0e-5,\n",
    "        \"expert\": {\n",
    "            \"factor\": 0.5\n",
    "        },\n",
    "        \"Logging\": {\n",
    "            \"Level\": poptus.LOG_LEVEL_DEFAULT\n",
    "        }\n",
    "    }\n",
    "}\n",
    "\n",
    "with open(JSON_FILENAME, \"w\") as fptr:\n",
    "    json.dump(SPLIT_CONFIG, fptr, indent=4)\n",
    "\n",
    "print_file(JSON_FILENAME)"
   ]
  },
  {
   "cell_type": "markdown",
   "metadata": {},
   "source": [
    "The standard output/error log messages are written to individual blocks"
   ]
  },
  {
   "cell_type": "code",
   "execution_count": 5,
   "metadata": {
    "editable": true,
    "slideshow": {
     "slide_type": ""
    },
    "tags": []
   },
   "outputs": [
    {
     "name": "stderr",
     "output_type": "stream",
     "text": [
      "[Method] ERROR - Failed to converge within allotted budget\n"
     ]
    },
    {
     "name": "stdout",
     "output_type": "stream",
     "text": [
      "[POptUS] WARNING - Overwriting /Users/jared/Projects/POptUS/POptUS_public/book/notebooks/model.log\n",
      "[Method] \n",
      "[Method] Starting point\n",
      "[Method] \te_1\t1.1\n",
      "[Method] \te_2\t-2.2\n",
      "[Method] Iteration budget = 10\n",
      "[Method] Stopping criteria = 1e-05\n",
      "[Method] \n",
      "[Method] Iteration 1\n",
      "[Method] Iteration 2\n",
      "[Method] Iteration 3\n",
      "[Method] Iteration 4\n",
      "[Method] Iteration 5\n",
      "[Method] Iteration 6\n",
      "[Method] Iteration 7\n",
      "[Method] Iteration 8\n",
      "[Method] Iteration 9\n",
      "[Method] Iteration 10\n",
      "\n",
      "FAILURE - Unable to apply my method to my model\n",
      "\n"
     ]
    }
   ],
   "source": [
    "_ = main(JSON_FILENAME)"
   ]
  },
  {
   "cell_type": "markdown",
   "metadata": {
    "editable": true,
    "slideshow": {
     "slide_type": ""
    },
    "tags": []
   },
   "source": [
    "All model evaluations have been written to ``model.log`` and are"
   ]
  },
  {
   "cell_type": "code",
   "execution_count": 6,
   "metadata": {
    "editable": true,
    "slideshow": {
     "slide_type": ""
    },
    "tags": [
     "remove-input"
    ]
   },
   "outputs": [
    {
     "name": "stdout",
     "output_type": "stream",
     "text": [
      "[Model] \n",
      "[Model] Creating model with p=2\n",
      "[Model] \n",
      "[Model] Value = 2.459674775249769 at [ 1.1 -2.2]\n",
      "[Model] Value = 1.2298373876248845 at [ 0.55 -1.1 ]\n",
      "[Model] Value = 0.6149186938124422 at [ 0.275 -0.55 ]\n",
      "[Model] Value = 0.3074593469062211 at [ 0.1375 -0.275 ]\n",
      "[Model] Value = 0.15372967345311056 at [ 0.06875 -0.1375 ]\n",
      "[Model] Value = 0.07686483672655528 at [ 0.034375 -0.06875 ]\n",
      "[Model] Value = 0.03843241836327764 at [ 0.0171875 -0.034375 ]\n",
      "[Model] Value = 0.01921620918163882 at [ 0.00859375 -0.0171875 ]\n",
      "[Model] Value = 0.00960810459081941 at [ 0.00429688 -0.00859375]\n",
      "[Model] Value = 0.004804052295409705 at [ 0.00214844 -0.00429688]\n"
     ]
    }
   ],
   "source": [
    "# Remove input from rendering\n",
    "\n",
    "print_file(TEST_LOG)"
   ]
  },
  {
   "cell_type": "markdown",
   "metadata": {
    "editable": true,
    "slideshow": {
     "slide_type": ""
    },
    "tags": []
   },
   "source": [
    "While the model's log provides some insight, we can increase the method's logging level and log both model and method to the same output in the hope that seeing the combined output in chronological order might help us determine how to get convergence."
   ]
  },
  {
   "cell_type": "code",
   "execution_count": 7,
   "metadata": {
    "editable": true,
    "slideshow": {
     "slide_type": ""
    },
    "tags": [
     "remove-input"
    ]
   },
   "outputs": [
    {
     "name": "stdout",
     "output_type": "stream",
     "text": [
      "{\n",
      "    \"Model\": {\n",
      "        \"Numerics\": {\n",
      "            \"p\": 2\n",
      "        },\n",
      "        \"Logging\": {\n",
      "            \"Level\": 4\n",
      "        }\n",
      "    },\n",
      "    \"Method\": {\n",
      "        \"starting_point\": [\n",
      "            1.1,\n",
      "            -2.2\n",
      "        ],\n",
      "        \"max_iters\": 10,\n",
      "        \"stopping_criteria\": 1e-05,\n",
      "        \"expert\": {\n",
      "            \"factor\": 0.5\n",
      "        },\n",
      "        \"Logging\": {\n",
      "            \"Level\": 4\n",
      "        }\n",
      "    }\n",
      "}\n"
     ]
    }
   ],
   "source": [
    "# Remove input from rendering\n",
    "\n",
    "DEBUG_CONFIG = copy.deepcopy(SPLIT_CONFIG)\n",
    "DEBUG_CONFIG[\"Model\"][\"Logging\"] = {\"Level\": poptus.LOG_LEVEL_MAX}\n",
    "DEBUG_CONFIG[\"Method\"][\"Logging\"] = {\"Level\": poptus.LOG_LEVEL_MAX}\n",
    "\n",
    "with open(JSON_FILENAME, \"w\") as fptr:\n",
    "    json.dump(DEBUG_CONFIG, fptr, indent=4)\n",
    "\n",
    "print_file(JSON_FILENAME)"
   ]
  },
  {
   "cell_type": "code",
   "execution_count": 8,
   "metadata": {
    "editable": true,
    "slideshow": {
     "slide_type": ""
    },
    "tags": []
   },
   "outputs": [
    {
     "name": "stderr",
     "output_type": "stream",
     "text": [
      "[Method] ERROR - Failed to converge within allotted budget\n"
     ]
    },
    {
     "name": "stdout",
     "output_type": "stream",
     "text": [
      "[Model] \n",
      "[Model] Creating model with p=2\n",
      "[Model] \n",
      "[Method] \n",
      "[Method] Starting point\n",
      "[Method] \te_1\t1.1\n",
      "[Method] \te_2\t-2.2\n",
      "[Method] Iteration budget = 10\n",
      "[Method] Stopping criteria = 1e-05\n",
      "[Method] Expert configuration values\n",
      "[Method] \tFactor = 0.5\n",
      "[Method] \n",
      "[Method] Iteration 1\n",
      "[Model] Value = 2.459674775249769 at [ 1.1 -2.2]\n",
      "[Method] Scaling current point by 0.5\n",
      "[Method] Iteration 2\n",
      "[Model] Value = 1.2298373876248845 at [ 0.55 -1.1 ]\n",
      "[Method] Scaling current point by 0.5\n",
      "[Method] Iteration 3\n",
      "[Model] Value = 0.6149186938124422 at [ 0.275 -0.55 ]\n",
      "[Method] Scaling current point by 0.5\n",
      "[Method] Iteration 4\n",
      "[Model] Value = 0.3074593469062211 at [ 0.1375 -0.275 ]\n",
      "[Method] Scaling current point by 0.5\n",
      "[Method] Iteration 5\n",
      "[Model] Value = 0.15372967345311056 at [ 0.06875 -0.1375 ]\n",
      "[Method] Scaling current point by 0.5\n",
      "[Method] Iteration 6\n",
      "[Model] Value = 0.07686483672655528 at [ 0.034375 -0.06875 ]\n",
      "[Method] Scaling current point by 0.5\n",
      "[Method] Iteration 7\n",
      "[Model] Value = 0.03843241836327764 at [ 0.0171875 -0.034375 ]\n",
      "[Method] Scaling current point by 0.5\n",
      "[Method] Iteration 8\n",
      "[Model] Value = 0.01921620918163882 at [ 0.00859375 -0.0171875 ]\n",
      "[Method] Scaling current point by 0.5\n",
      "[Method] Iteration 9\n",
      "[Model] Value = 0.00960810459081941 at [ 0.00429688 -0.00859375]\n",
      "[Method] Scaling current point by 0.5\n",
      "[Method] Iteration 10\n",
      "[Model] Value = 0.004804052295409705 at [ 0.00214844 -0.00429688]\n",
      "[Method] Scaling current point by 0.5\n",
      "\n",
      "FAILURE - Unable to apply my method to my model\n",
      "\n"
     ]
    }
   ],
   "source": [
    "_ = main(JSON_FILENAME)"
   ]
  },
  {
   "cell_type": "markdown",
   "metadata": {},
   "source": [
    "A clear next step would be to either increase the maximum number of allowable iterations or increase the stopping criterion.  We try the latter since our evaluations can be very expensive. "
   ]
  },
  {
   "cell_type": "code",
   "execution_count": 9,
   "metadata": {
    "editable": true,
    "slideshow": {
     "slide_type": ""
    },
    "tags": [
     "remove-input"
    ]
   },
   "outputs": [
    {
     "name": "stdout",
     "output_type": "stream",
     "text": [
      "{\n",
      "    \"Model\": {\n",
      "        \"Numerics\": {\n",
      "            \"p\": 2\n",
      "        },\n",
      "        \"Logging\": {\n",
      "            \"Level\": 4,\n",
      "            \"Filename\": \"/Users/jared/Projects/POptUS/POptUS_public/book/notebooks/model.log\",\n",
      "            \"Overwrite\": true\n",
      "        }\n",
      "    },\n",
      "    \"Method\": {\n",
      "        \"starting_point\": [\n",
      "            1.1,\n",
      "            -2.2\n",
      "        ],\n",
      "        \"max_iters\": 10,\n",
      "        \"stopping_criteria\": 0.005,\n",
      "        \"expert\": {\n",
      "            \"factor\": 0.5\n",
      "        },\n",
      "        \"Logging\": {\n",
      "            \"Level\": 1\n",
      "        }\n",
      "    }\n",
      "}\n"
     ]
    }
   ],
   "source": [
    "# Remove input from rendering\n",
    "\n",
    "FIXED_CONFIG = copy.deepcopy(SPLIT_CONFIG)\n",
    "FIXED_CONFIG[\"Method\"][\"stopping_criteria\"] = 5.0e-3\n",
    "\n",
    "with open(JSON_FILENAME, \"w\") as fptr:\n",
    "    json.dump(FIXED_CONFIG, fptr, indent=4)\n",
    "\n",
    "print_file(JSON_FILENAME)"
   ]
  },
  {
   "cell_type": "code",
   "execution_count": 10,
   "metadata": {
    "editable": true,
    "slideshow": {
     "slide_type": ""
    },
    "tags": []
   },
   "outputs": [
    {
     "name": "stdout",
     "output_type": "stream",
     "text": [
      "[POptUS] WARNING - Overwriting /Users/jared/Projects/POptUS/POptUS_public/book/notebooks/model.log\n",
      "[Method] \n",
      "[Method] Starting point\n",
      "[Method] \te_1\t1.1\n",
      "[Method] \te_2\t-2.2\n",
      "[Method] Iteration budget = 10\n",
      "[Method] Stopping criteria = 0.005\n",
      "[Method] \n",
      "[Method] WARNING - Stopping criteria is suspiciously large\n",
      "[Method] Iteration 1\n",
      "[Method] Iteration 2\n",
      "[Method] Iteration 3\n",
      "[Method] Iteration 4\n",
      "[Method] Iteration 5\n",
      "[Method] Iteration 6\n",
      "[Method] Iteration 7\n",
      "[Method] Iteration 8\n",
      "[Method] Iteration 9\n",
      "[Method] Iteration 10\n",
      "[Method] Approximated Solution = 0.004804052295409705\n"
     ]
    }
   ],
   "source": [
    "_ = main(JSON_FILENAME)"
   ]
  },
  {
   "cell_type": "markdown",
   "metadata": {
    "editable": true,
    "slideshow": {
     "slide_type": ""
    },
    "tags": []
   },
   "source": [
    "While we did get a solution, the warning message is unsettling.  Digging into the method's documents we determine that decreasing the expert-mode configuration value ``factor`` slightly is valid for our case.  Using the verbose debugging output, we believe that using ``factor = 0.25`` should help us achieve correct convergence with few evaluations.  We also increase the method's verbosity so that ``factor``'s value is logged."
   ]
  },
  {
   "cell_type": "code",
   "execution_count": 11,
   "metadata": {
    "editable": true,
    "slideshow": {
     "slide_type": ""
    },
    "tags": [
     "remove-input"
    ]
   },
   "outputs": [
    {
     "name": "stdout",
     "output_type": "stream",
     "text": [
      "{\n",
      "    \"Model\": {\n",
      "        \"Numerics\": {\n",
      "            \"p\": 2\n",
      "        },\n",
      "        \"Logging\": {\n",
      "            \"Level\": 4,\n",
      "            \"Filename\": \"/Users/jared/Projects/POptUS/POptUS_public/book/notebooks/model.log\",\n",
      "            \"Overwrite\": true\n",
      "        }\n",
      "    },\n",
      "    \"Method\": {\n",
      "        \"starting_point\": [\n",
      "            1.1,\n",
      "            -2.2\n",
      "        ],\n",
      "        \"max_iters\": 10,\n",
      "        \"stopping_criteria\": 1e-05,\n",
      "        \"expert\": {\n",
      "            \"factor\": 0.25\n",
      "        },\n",
      "        \"Logging\": {\n",
      "            \"Level\": 2\n",
      "        }\n",
      "    }\n",
      "}\n"
     ]
    }
   ],
   "source": [
    "# Remove input from rendering\n",
    "\n",
    "FIXED_CONFIG = copy.deepcopy(SPLIT_CONFIG)\n",
    "FIXED_CONFIG[\"Method\"][\"expert\"][\"factor\"] = 0.25\n",
    "FIXED_CONFIG[\"Method\"][\"Logging\"][\"Level\"] = poptus.LOG_LEVEL_MIN_DEBUG\n",
    "\n",
    "with open(JSON_FILENAME, \"w\") as fptr:\n",
    "    json.dump(FIXED_CONFIG, fptr, indent=4)\n",
    "\n",
    "print_file(JSON_FILENAME)"
   ]
  },
  {
   "cell_type": "code",
   "execution_count": 12,
   "metadata": {
    "editable": true,
    "slideshow": {
     "slide_type": ""
    },
    "tags": []
   },
   "outputs": [
    {
     "name": "stdout",
     "output_type": "stream",
     "text": [
      "[POptUS] WARNING - Overwriting /Users/jared/Projects/POptUS/POptUS_public/book/notebooks/model.log\n",
      "[Method] \n",
      "[Method] Starting point\n",
      "[Method] \te_1\t1.1\n",
      "[Method] \te_2\t-2.2\n",
      "[Method] Iteration budget = 10\n",
      "[Method] Stopping criteria = 1e-05\n",
      "[Method] Expert configuration values\n",
      "[Method] \tFactor = 0.25\n",
      "[Method] \n",
      "[Method] Iteration 1\n",
      "[Method] Iteration 2\n",
      "[Method] Iteration 3\n",
      "[Method] Iteration 4\n",
      "[Method] Iteration 5\n",
      "[Method] Iteration 6\n",
      "[Method] Iteration 7\n",
      "[Method] Iteration 8\n",
      "[Method] Iteration 9\n",
      "[Method] Iteration 10\n",
      "[Method] Approximated Solution = 9.38291463947208e-06\n"
     ]
    }
   ],
   "source": [
    "_ = main(JSON_FILENAME)"
   ]
  },
  {
   "cell_type": "markdown",
   "metadata": {
    "editable": true,
    "slideshow": {
     "slide_type": ""
    },
    "tags": []
   },
   "source": [
    "Finally we have a solution and interesting model evaulation values in the method's log file."
   ]
  },
  {
   "cell_type": "code",
   "execution_count": 13,
   "metadata": {
    "editable": true,
    "slideshow": {
     "slide_type": ""
    },
    "tags": [
     "remove-input"
    ]
   },
   "outputs": [
    {
     "name": "stdout",
     "output_type": "stream",
     "text": [
      "[Model] \n",
      "[Model] Creating model with p=2\n",
      "[Model] \n",
      "[Model] Value = 2.459674775249769 at [ 1.1 -2.2]\n",
      "[Model] Value = 0.6149186938124422 at [ 0.275 -0.55 ]\n",
      "[Model] Value = 0.15372967345311056 at [ 0.06875 -0.1375 ]\n",
      "[Model] Value = 0.03843241836327764 at [ 0.0171875 -0.034375 ]\n",
      "[Model] Value = 0.00960810459081941 at [ 0.00429688 -0.00859375]\n",
      "[Model] Value = 0.0024020261477048525 at [ 0.00107422 -0.00214844]\n",
      "[Model] Value = 0.0006005065369262131 at [ 0.00026855 -0.00053711]\n",
      "[Model] Value = 0.00015012663423155328 at [ 6.71386719e-05 -1.34277344e-04]\n",
      "[Model] Value = 3.753165855788832e-05 at [ 1.67846680e-05 -3.35693359e-05]\n",
      "[Model] Value = 9.38291463947208e-06 at [ 4.19616699e-06 -8.39233398e-06]\n"
     ]
    }
   ],
   "source": [
    "# Remove input from rendering\n",
    "\n",
    "print_file(TEST_LOG)"
   ]
  }
 ],
 "metadata": {
  "jupytext": {
   "formats": "ipynb,py:percent"
  },
  "kernelspec": {
   "display_name": "Python 3 (ipykernel)",
   "language": "python",
   "name": "python3"
  },
  "language_info": {
   "codemirror_mode": {
    "name": "ipython",
    "version": 3
   },
   "file_extension": ".py",
   "mimetype": "text/x-python",
   "name": "python",
   "nbconvert_exporter": "python",
   "pygments_lexer": "ipython3",
   "version": "3.13.7"
  }
 },
 "nbformat": 4,
 "nbformat_minor": 4
}
